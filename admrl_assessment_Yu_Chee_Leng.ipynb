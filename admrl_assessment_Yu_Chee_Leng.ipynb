{
 "cells": [
  {
   "cell_type": "code",
   "execution_count": 59,
   "metadata": {},
   "outputs": [],
   "source": [
    "import requests\n",
    "import json\n",
    "import numpy as np"
   ]
  },
  {
   "cell_type": "code",
   "execution_count": 60,
   "metadata": {},
   "outputs": [],
   "source": [
    "#url template\n",
    "email = \"zilenk@gmail.com\"\n",
    "reg_date = \"07-13-2020\"\n",
    "\n",
    "url = f\"http://165.22.250.235/api/assessment/{email}?date={reg_date}\"\n",
    "\n",
    "post_url = 'http://165.22.250.235/api/assessment'\n",
    "\n",
    "myUrl = 'https://github.com/fp-ycl/admrl/blob/master/admrl_assessment_Yu_Chee_Leng.ipynb'"
   ]
  },
  {
   "cell_type": "code",
   "execution_count": 61,
   "metadata": {},
   "outputs": [],
   "source": [
    "# Get resquest\n",
    "resp = requests.get(url)\n",
    "resp_json = resp.json()"
   ]
  },
  {
   "cell_type": "code",
   "execution_count": 58,
   "metadata": {},
   "outputs": [
    {
     "data": {
      "text/plain": [
       "'eyJhbGciOiJIUzI1NiIsInR5cCI6IkpXVCJ9.eyJzdWIiOiJ6aWxlbmtAZ21haWwuY29tIiwiaXNzIjoiaHR0cHM6Ly93d3cuaXNzLm51cy5lZHUuc2cvZXhlY3V0aXZlLWVkdWNhdGlvbi9kaXNjaXBsaW5lL2RldGFpbC9zdGFja3VwLS0tc3RhcnR1cC10ZWNoLXRhbGVudC1kZXZlbG9wbWVudCIsImlhdCI6MTU5MzU3NTE0MS42NzMsImV4cCI6MTU5MzU3NTE3MS42NzMsImRhdGEiOnsic2FtcGxlcyI6IjcxLjgxOCwxNjguNzYyLDY0LjgzNCw1Ny4wNyw1Ny40NzIsMTM5Ljc0NCwxMzguNTI5LDE3MC4zMjQsNi43MDcsNzEuMTU4LDE3LjQ5NCwxMTAuNTk1LDEzMC44MDMsMTE1LjI0MSwxMzAuOTQ3LDczLjA4MSwyNy44NjUsNTcuNzExLDEzNS42NTIsMjMuMDg0LDE1Mi4xMjUsMjUuODk5LDcyLjEzLDQuMjc4LDE3NC41ODYsMTkuMDYyLDQ5LjA3OSwzMS45ODIsMTczLjAzNiwxMzYuODI5LDQ1LjgzMyw5MS45MSw2LjI3NSwxNTkuMTM4LDE2NC44ODcsMTg5LjA2OCwyMy41MTUsMzEuNTc5LDg3LjU4MywxMjQuMDM0LDcxLjA0OSwxOTAuNDM2LDEwMi42NTIsOTkuOTMxLDU0Ljc3NywxOTIuNDYsMTg1LjY3OCwxMzQuOTU1LDY0LjY5MSwxODQuMDQsMTM3LjE1MSwwLjA0MSwxNzUuMzY4LDg2Ljc2OCw3NS4xODgsMTczLjMxNCJ9fQ.VIWMLmVFIJLt6SyPfY9bBGxNB_TNe7KAK7N42bXc6r0'"
      ]
     },
     "execution_count": 58,
     "metadata": {},
     "output_type": "execute_result"
    }
   ],
   "source": [
    "#resp.headers['X-Assessment-Token']"
   ]
  },
  {
   "cell_type": "code",
   "execution_count": 53,
   "metadata": {},
   "outputs": [
    {
     "name": "stdout",
     "output_type": "stream",
     "text": [
      "{'email': 'zilenk@gmail.com', 'samples': '71.818,168.762,64.834,57.07,57.472,139.744,138.529,170.324,6.707,71.158,17.494,110.595,130.803,115.241,130.947,73.081,27.865,57.711,135.652,23.084,152.125,25.899,72.13,4.278,174.586,19.062,49.079,31.982,173.036,136.829,45.833,91.91,6.275,159.138,164.887,189.068,23.515,31.579,87.583,124.034,71.049,190.436,102.652,99.931,54.777,192.46,185.678,134.955,64.691,184.04,137.151,0.041,175.368,86.768,75.188,173.314'}\n"
     ]
    }
   ],
   "source": [
    "#print(resp_json)"
   ]
  },
  {
   "cell_type": "code",
   "execution_count": 34,
   "metadata": {},
   "outputs": [
    {
     "name": "stdout",
     "output_type": "stream",
     "text": [
      "<class 'str'>\n",
      "[ 75.149  81.059  86.706 136.644]\n",
      "94.8895\n",
      "597.8445032500001\n",
      "3\n"
     ]
    }
   ],
   "source": [
    "# #testing\n",
    "# test = { 'email': 'fred:bedrock.com', 'samples': '75.149,81.059,86.706,136.644' }\n",
    "# sample_string=test[\"samples\"]\n",
    "# testing = str.split(sample_string,sep=',')\n",
    "# test_list = [float(i) for i in testing] \n",
    "# a = np.array(test_list)\n",
    "# print(type(sample_string))\n",
    "# print(a)\n",
    "# print(np.mean(a))\n",
    "# print(np.var(a))\n",
    "# print(np.argmax(a))"
   ]
  },
  {
   "cell_type": "code",
   "execution_count": 62,
   "metadata": {},
   "outputs": [],
   "source": [
    "#extract data\n",
    "token = resp.headers['X-Assessment-Token']\n",
    "email_resp = resp_json[\"email\"]\n",
    "smaples_str = resp_json[\"samples\"]\n",
    "smaples = str.split(smaples_str,sep=',')\n",
    "samples_list = [float(i) for i in smaples]\n",
    "samples_np = np.array(samples_list)"
   ]
  },
  {
   "cell_type": "code",
   "execution_count": 63,
   "metadata": {},
   "outputs": [],
   "source": [
    "#calculate mean,variance, argmax\n",
    "sample_mean = np.mean(samples_np)\n",
    "sample_var = np.var(samples_np)\n",
    "sample_argmax = np.argmax(samples_np)"
   ]
  },
  {
   "cell_type": "code",
   "execution_count": 64,
   "metadata": {},
   "outputs": [],
   "source": [
    "# Prepare header\n",
    "h = {\n",
    "    'X-Assessment-Token':token,\n",
    "    'Content-Type':'application/x-www-form-urlencoded'    \n",
    "}"
   ]
  },
  {
   "cell_type": "code",
   "execution_count": 65,
   "metadata": {},
   "outputs": [],
   "source": [
    "# Prepare data\n",
    "d = {\n",
    "    'email':email,\n",
    "    'date':reg_date,\n",
    "    'samples':smaples_str,\n",
    "    'mean':sample_mean,\n",
    "    'variance':sample_var,\n",
    "    'argmax':sample_argmax,\n",
    "    'myWork':True,\n",
    "    'fileUrl':myUrl\n",
    "}"
   ]
  },
  {
   "cell_type": "code",
   "execution_count": 66,
   "metadata": {},
   "outputs": [
    {
     "name": "stdout",
     "output_type": "stream",
     "text": [
      "201\n"
     ]
    }
   ],
   "source": [
    "r = requests.post(post_url, data=d, headers=h)\n",
    "print(r.status_code)"
   ]
  },
  {
   "cell_type": "code",
   "execution_count": null,
   "metadata": {},
   "outputs": [],
   "source": []
  }
 ],
 "metadata": {
  "kernelspec": {
   "display_name": "Python 3",
   "language": "python",
   "name": "python3"
  },
  "language_info": {
   "codemirror_mode": {
    "name": "ipython",
    "version": 3
   },
   "file_extension": ".py",
   "mimetype": "text/x-python",
   "name": "python",
   "nbconvert_exporter": "python",
   "pygments_lexer": "ipython3",
   "version": "3.7.3"
  }
 },
 "nbformat": 4,
 "nbformat_minor": 2
}

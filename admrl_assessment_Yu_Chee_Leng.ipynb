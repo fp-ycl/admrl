{
 "cells": [
  {
   "cell_type": "code",
   "execution_count": 1,
   "metadata": {},
   "outputs": [],
   "source": [
    "import requests\n",
    "import json\n",
    "import numpy as np"
   ]
  },
  {
   "cell_type": "code",
   "execution_count": 38,
   "metadata": {},
   "outputs": [],
   "source": [
    "#url template\n",
    "email = \"zilenk@gmail.com\"\n",
    "reg_date = \"07-13-2020\"\n",
    "\n",
    "url = f\"http://165.22.250.235/api/assessment/{email}?date={reg_date}\"\n",
    "\n",
    "post_url = 'http://165.22.250.235/api/assessment'\n",
    "\n",
    "myUrl = ''"
   ]
  },
  {
   "cell_type": "code",
   "execution_count": null,
   "metadata": {},
   "outputs": [],
   "source": [
    "# Get resquest\n",
    "resp = requests.get(url)\n",
    "resp_json = resp.json()"
   ]
  },
  {
   "cell_type": "code",
   "execution_count": 34,
   "metadata": {},
   "outputs": [
    {
     "name": "stdout",
     "output_type": "stream",
     "text": [
      "<class 'str'>\n",
      "[ 75.149  81.059  86.706 136.644]\n",
      "94.8895\n",
      "597.8445032500001\n",
      "3\n"
     ]
    }
   ],
   "source": [
    "# #testing\n",
    "# test = { 'email': 'fred:bedrock.com', 'samples': '75.149,81.059,86.706,136.644' }\n",
    "# sample_string=test[\"samples\"]\n",
    "# testing = str.split(sample_string,sep=',')\n",
    "# test_list = [float(i) for i in testing] \n",
    "# a = np.array(test_list)\n",
    "# print(type(sample_string))\n",
    "# print(a)\n",
    "# print(np.mean(a))\n",
    "# print(np.var(a))\n",
    "# print(np.argmax(a))"
   ]
  },
  {
   "cell_type": "code",
   "execution_count": null,
   "metadata": {},
   "outputs": [],
   "source": [
    "#extract data\n",
    "token = resp_json[\"X-Assessment-Token\"]\n",
    "email_resp = resp_json[\"email\"]\n",
    "smaples_str = resp_json[\"samples\"]\n",
    "smaples = str.split(smaples_str,sep=',')\n",
    "samples_list = [float(i) for i in smaples]\n",
    "samples_np = np.array(samples_list)"
   ]
  },
  {
   "cell_type": "code",
   "execution_count": 40,
   "metadata": {},
   "outputs": [],
   "source": [
    "#calculate mean,variance, argmax\n",
    "sample_mean = np.mean(samples_np)\n",
    "sample_var = np.var(samples_np)\n",
    "sample_argmax = np.argmax(samples_np)"
   ]
  },
  {
   "cell_type": "code",
   "execution_count": 41,
   "metadata": {},
   "outputs": [
    {
     "ename": "NameError",
     "evalue": "name 'token' is not defined",
     "output_type": "error",
     "traceback": [
      "\u001b[0;31m---------------------------------------------------------------------------\u001b[0m",
      "\u001b[0;31mNameError\u001b[0m                                 Traceback (most recent call last)",
      "\u001b[0;32m<ipython-input-41-466ca2e96c52>\u001b[0m in \u001b[0;36m<module>\u001b[0;34m\u001b[0m\n\u001b[1;32m      1\u001b[0m \u001b[0;31m# Prepare header\u001b[0m\u001b[0;34m\u001b[0m\u001b[0;34m\u001b[0m\u001b[0;34m\u001b[0m\u001b[0m\n\u001b[1;32m      2\u001b[0m h = {\n\u001b[0;32m----> 3\u001b[0;31m     \u001b[0;34m'X-Assessment-Token'\u001b[0m\u001b[0;34m:\u001b[0m\u001b[0mtoken\u001b[0m\u001b[0;34m,\u001b[0m\u001b[0;34m\u001b[0m\u001b[0;34m\u001b[0m\u001b[0m\n\u001b[0m\u001b[1;32m      4\u001b[0m     \u001b[0;34m'Content-Type'\u001b[0m\u001b[0;34m:\u001b[0m\u001b[0;34m'application/x-www-form-urlencoded'\u001b[0m\u001b[0;34m\u001b[0m\u001b[0;34m\u001b[0m\u001b[0m\n\u001b[1;32m      5\u001b[0m }\n",
      "\u001b[0;31mNameError\u001b[0m: name 'token' is not defined"
     ]
    }
   ],
   "source": [
    "# Prepare header\n",
    "h = {\n",
    "    'X-Assessment-Token':token,\n",
    "    'Content-Type':'application/x-www-form-urlencoded'    \n",
    "}"
   ]
  },
  {
   "cell_type": "code",
   "execution_count": 43,
   "metadata": {},
   "outputs": [],
   "source": [
    "# Prepare data\n",
    "d = {\n",
    "    'email':email,\n",
    "    'date':reg_date,\n",
    "    'samples':smaples_str,\n",
    "    'mean':sample_mean,\n",
    "    'variance':sample_var,\n",
    "    'argmax':sample_argmax,\n",
    "    'myWork':True,\n",
    "    'fileUrl':myUrl\n",
    "}"
   ]
  },
  {
   "cell_type": "code",
   "execution_count": null,
   "metadata": {},
   "outputs": [],
   "source": [
    "r = requests.post(post_url, data=d, headers=h)\n",
    "print(r.status_code)"
   ]
  }
 ],
 "metadata": {
  "kernelspec": {
   "display_name": "Python 3",
   "language": "python",
   "name": "python3"
  },
  "language_info": {
   "codemirror_mode": {
    "name": "ipython",
    "version": 3
   },
   "file_extension": ".py",
   "mimetype": "text/x-python",
   "name": "python",
   "nbconvert_exporter": "python",
   "pygments_lexer": "ipython3",
   "version": "3.7.3"
  }
 },
 "nbformat": 4,
 "nbformat_minor": 2
}
